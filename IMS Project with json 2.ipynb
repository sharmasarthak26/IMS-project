{
 "cells": [
  {
   "cell_type": "code",
   "execution_count": 5,
   "id": "1fc8cb9d",
   "metadata": {},
   "outputs": [
    {
     "name": "stdout",
     "output_type": "stream",
     "text": [
      "Enter the no. of record 1\n",
      "Enter the product id 1017\n",
      "Enter the product name remote control\n",
      "Enter the product price 56999\n",
      "Enter the quantity 5\n",
      "*****Purchase******\n",
      "Record do you purchase remote control\n",
      "Enter the product id1017\n",
      "if you check the product quantity in store yes/no yes\n",
      "available in store 5\n",
      "Enter the quantity1\n",
      "The user quantity 1\n",
      "if you know about the product price yes/no no\n",
      "Price is 56999\n",
      "****Billing****\n",
      "Product: remote control\n",
      "Price: 56999\n",
      "****Discount Offer****\n",
      "valid! one time offer you get 25%off on any product\n",
      "Your discount: 14249.75\n",
      "The billing amount: 42749.25\n",
      "Enter the no. of product purchase 1\n"
     ]
    }
   ],
   "source": [
    "\n",
    "import json\n",
    "\n",
    "fd=open(\"record1.json\",'r')\n",
    "txt=fd.read()\n",
    "fd.close()\n",
    "\n",
    "Data= json.loads(txt)\n",
    "\n",
    "\n",
    "# add new item\n",
    "\n",
    "n=int(input(\"Enter the no. of record \"))  \n",
    "for i in range(0,n):\n",
    "    pid= input(\"Enter the product id \")\n",
    "    pname= input(\"Enter the product name \")\n",
    "    pri= int(input(\"Enter the product price \"))\n",
    "    quan= int(input(\"Enter the quantity \"))\n",
    "\n",
    "    Data[pid]= {\"name\":pname,\"pr\":pri,\"qn\":quan}\n",
    "\n",
    "js= json.dumps(Data)\n",
    "fd= open(\"record.json\",'w')\n",
    "fd.write(js)\n",
    "fd.close()\n",
    "\n",
    "# Purchase\n",
    "print(\"*****Purchase******\")\n",
    "print(\"Record do you purchase\",Data[pid][\"name\"])\n",
    "us_pid= input(\"Enter the product id\")\n",
    "n=input(\"if you check the product quantity in store yes/no \")\n",
    "if(n==\"yes\"):\n",
    "    print(\"available in store\",Data[us_pid][\"qn\"])\n",
    "else:\n",
    "    exit()\n",
    "us_quan= int(input(\"Enter the quantity\"))\n",
    "print(\"The user quantity\",us_quan)\n",
    "\n",
    "\n",
    "p=input(\"if you know about the product price yes/no \")\n",
    "if(p==\"no\"):\n",
    "    print(\"Price is\",Data[us_pid][\"pr\"])\n",
    "    \n",
    "else:\n",
    "    exit()\n",
    "  \n",
    "# billing\n",
    "\n",
    "print(\"****Billing****\")\n",
    "\n",
    "print(\"Product:\",Data[us_pid][\"name\"])\n",
    "print(\"Price:\",Data[us_pid][\"pr\"])\n",
    "Price=Data[us_pid][\"pr\"]*us_quan\n",
    "print(\"****Discount Offer****\")\n",
    "if(Price>=5000):\n",
    "    print(\"valid! one time offer you get 25%off on any product\")\n",
    "    discount=(25/100)*Price\n",
    "    print(\"Your discount:\",discount)\n",
    "    \n",
    "elif(Price<5000 and Price>=3500):\n",
    "    print(\"Valid! one time offer you get 20%off on any product\")\n",
    "    discount=(20/100)*Price\n",
    "    print(\"Your discount:\",discount)\n",
    "        \n",
    "elif(Price<3500 and Price>=1500):\n",
    "    print(\"Valid! one time offer you get 15%off on any product\")\n",
    "    discount=(15/100)*Price\n",
    "    print(\"Your discount:\",discount)\n",
    "        \n",
    "else:\n",
    "    print(\"Not Valid! Please shop more\")\n",
    "    discount=0\n",
    "\n",
    "Total=Price-discount\n",
    "print(\"The billing amount:\",Total)\n",
    "    \n",
    "Data[us_pid][\"qn\"]= Data[us_pid][\"qn\"]-us_quan\n",
    "\n",
    "js= json.dumps(Data) # update the data \n",
    "fd=open(\"record1.json\",'w')\n",
    "fd.write(js)\n",
    "fd.close\n",
    "\n",
    "# sales\n",
    "sales={1:{\"pid\":us_pid,\"qn\":us_quan,\"amount\":Total}}\n",
    "\n",
    "sales[(len(sales)+1)]={\"pid\":us_pid,\"qn\":us_quan,\"amount\":Total}\n",
    "sale=json.dumps(sales)\n",
    "\n",
    "fd=open(\"sales.json\",'a')\n",
    "txt=fd.write(sale)\n",
    "fd.close()"
   ]
  },
  {
   "cell_type": "markdown",
   "id": "7b02c41a",
   "metadata": {},
   "source": [
    " "
   ]
  },
  {
   "cell_type": "code",
   "execution_count": 10,
   "id": "b4e9ee6c",
   "metadata": {},
   "outputs": [
    {
     "data": {
      "text/plain": [
       "{'1001': {'name': 'T.V', 'pr': 34000, 'qn': 8},\n",
       " '1002': {'name': 'home theatre', 'pr': 8599, 'qn': 4},\n",
       " '1003': {'name': 'Phone', 'pr': 63999, 'qn': 7},\n",
       " '1004': {'name': 'A.C', 'pr': 45000, 'qn': 2},\n",
       " '1005': {'name': 'Bags', 'pr': 1450, 'qn': 0},\n",
       " '1006': {'name': 'Pens', 'pr': 45, 'qn': 48},\n",
       " '1007': {'name': 'Books', 'pr': 750, 'qn': 11},\n",
       " '1008': {'name': 'white Board', 'pr': 3200, 'qn': 5},\n",
       " '1009': {'name': 'Projector', 'pr': 8500, 'qn': 1},\n",
       " '10001': {'name': 'coke', 'pr': 45, 'qn': 7},\n",
       " '1010': {'name': 'Mugs', 'pr': 1599, 'qn': 1},\n",
       " '1011': {'name': 'Blank Paper', 'pr': 399, 'qn': 100},\n",
       " '1012': {'name': 'Box', 'pr': 2500, 'qn': 14},\n",
       " '1013': {'name': 'Toys', 'pr': 16999, 'qn': 6},\n",
       " '1014': {'name': 'Chairs', 'pr': 4500, 'qn': 8},\n",
       " '1015': {'name': 'Table', 'pr': 10999, 'qn': 1},\n",
       " '1016': {'name': 'ice cream', 'pr': 456, 'qn': 0},\n",
       " '1017': {'name': 'Remote Control', 'pr': 53999, 'qn': 5}}"
      ]
     },
     "execution_count": 10,
     "metadata": {},
     "output_type": "execute_result"
    }
   ],
   "source": [
    "Data"
   ]
  },
  {
   "cell_type": "code",
   "execution_count": 14,
   "id": "c4044650",
   "metadata": {},
   "outputs": [
    {
     "data": {
      "text/plain": [
       "{1: {'pid': '1010', 'qn': 1, 'amount': 1359.15},\n",
       " 2: {'pid': '1010', 'qn': 1, 'amount': 1359.15}}"
      ]
     },
     "execution_count": 14,
     "metadata": {},
     "output_type": "execute_result"
    }
   ],
   "source": [
    "sales"
   ]
  },
  {
   "cell_type": "code",
   "execution_count": 15,
   "id": "cbc973d0",
   "metadata": {},
   "outputs": [],
   "source": [
    "sales={1:{\"pid\":us_pid,\"qn\":us_quan,\"amount\":Total}}\n",
    "\n",
    "sales[(len(sales)+1)]={\"pid\":us_pid,\"qn\":us_quan,\"amount\":Total}"
   ]
  },
  {
   "cell_type": "code",
   "execution_count": 16,
   "id": "7b3ebcb8",
   "metadata": {},
   "outputs": [
    {
     "data": {
      "text/plain": [
       "{1: {'pid': '1010', 'qn': 1, 'amount': 1359.15},\n",
       " 2: {'pid': '1010', 'qn': 1, 'amount': 1359.15}}"
      ]
     },
     "execution_count": 16,
     "metadata": {},
     "output_type": "execute_result"
    }
   ],
   "source": [
    "sales"
   ]
  },
  {
   "cell_type": "code",
   "execution_count": null,
   "id": "a8a41528",
   "metadata": {},
   "outputs": [],
   "source": []
  }
 ],
 "metadata": {
  "kernelspec": {
   "display_name": "Python 3",
   "language": "python",
   "name": "python3"
  },
  "language_info": {
   "codemirror_mode": {
    "name": "ipython",
    "version": 3
   },
   "file_extension": ".py",
   "mimetype": "text/x-python",
   "name": "python",
   "nbconvert_exporter": "python",
   "pygments_lexer": "ipython3",
   "version": "3.8.8"
  }
 },
 "nbformat": 4,
 "nbformat_minor": 5
}
